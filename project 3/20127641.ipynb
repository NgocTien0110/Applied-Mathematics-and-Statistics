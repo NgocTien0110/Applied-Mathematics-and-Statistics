{
 "cells": [
  {
   "cell_type": "markdown",
   "metadata": {},
   "source": [
    "# <center>Đồ án 3: Linear Regression</center>"
   ]
  },
  {
   "cell_type": "markdown",
   "metadata": {},
   "source": [
    "# Thông tin sinh viên\n",
    "\n",
    "- Họ và tên: Đặng Ngọc Tiến\n",
    "- MSSV: 20127641\n",
    "- Lớp: 20CLC11"
   ]
  },
  {
   "cell_type": "markdown",
   "metadata": {},
   "source": [
    "# Import"
   ]
  },
  {
   "cell_type": "code",
   "execution_count": 244,
   "metadata": {},
   "outputs": [],
   "source": [
    "import pandas as pd\n",
    "import numpy as np\n",
    "import matplotlib.pyplot as plt\n",
    "import seaborn as sns\n",
    "\n",
    "# Import thêm dữ thư viện nếu cần\n",
    "from sklearn.model_selection import train_test_split\n",
    "\n"
   ]
  },
  {
   "cell_type": "markdown",
   "metadata": {},
   "source": [
    "# Đọc dữ liệu"
   ]
  },
  {
   "cell_type": "markdown",
   "metadata": {},
   "source": []
  },
  {
   "cell_type": "code",
   "execution_count": 245,
   "metadata": {},
   "outputs": [],
   "source": [
    "# Đọc dữ liệu bằng pandas\n",
    "train = pd.read_csv('train.csv')\n",
    "test = pd.read_csv('test.csv')\n",
    "\n",
    "# Lấy các đặc trưng X và giá trị mục tiêu y cho các tập huấn luyện (train) và kiểm tra (test)\n",
    "X_train = train.iloc[:, :-1]    # Dataframe (chứa 10 đặc trưng huấn luyện)\n",
    "y_train = train.iloc[:, -1]     # Series    (chứa 1 giá trị mục tiêu kiểm tra)\n",
    "\n",
    "X_test = test.iloc[:, :-1]      # Dataframe (chứa 10 đặc trưng kiểm tra)\n",
    "y_test = test.iloc[:, -1]       # Series    (chứa 1 giá trị mục tiêu kiểm tra)\n",
    "\n",
    "# Sinh viên có thể sử dụng các khác nếu cần"
   ]
  },
  {
   "cell_type": "markdown",
   "metadata": {},
   "source": [
    "# Cài đặt hàm"
   ]
  },
  {
   "cell_type": "code",
   "execution_count": 246,
   "metadata": {},
   "outputs": [],
   "source": [
    "# Cài đặt các hàm cần thiết ở đây\n",
    "\n",
    "# Hồi quy tuyến tính của cô Uyên dễ thương <3 \n",
    "class OLSLinearRegression:\n",
    "    def fit(self, X, y):\n",
    "        X_pinv = np.linalg.inv(X.T @ X) @ X.T    # np.linalg.pinv(X)\n",
    "        self.w = X_pinv @ y\n",
    "        return self\n",
    "\n",
    "    def get_params(self):\n",
    "        return self.w\n",
    "\n",
    "\n",
    "    def predict(self, X):\n",
    "        return np.sum(self.w.ravel() * X, axis=1)   \n",
    "\n",
    "# hàm tính RMSE\n",
    "def rmse(y, y_hat):\n",
    "    return np.sqrt(np.mean((y.ravel() - y_hat.ravel())**2))\n",
    "\n",
    "def get_features(correlation_threshold):\n",
    "    abs_corrs = np.abs(correlations)\n",
    "    high_corrs = abs_corrs[abs_corrs > correlation_threshold].index.values.tolist()\n",
    "    return high_corrs\n"
   ]
  },
  {
   "cell_type": "code",
   "execution_count": 248,
   "metadata": {},
   "outputs": [
    {
     "data": {
      "text/plain": [
       "0     0.015101\n",
       "1     0.090220\n",
       "2     0.042922\n",
       "3     0.139289\n",
       "4    -0.567333\n",
       "5    -0.000101\n",
       "6     0.740713\n",
       "7     0.190936\n",
       "8    24.505974\n",
       "9     2.393517\n",
       "dtype: float64"
      ]
     },
     "execution_count": 248,
     "metadata": {},
     "output_type": "execute_result"
    }
   ],
   "source": [
    "# Phần code cho yêu cầu 1a\n",
    "model = OLSLinearRegression().fit(X_train, y_train)\n",
    "model.get_params()\n"
   ]
  },
  {
   "cell_type": "code",
   "execution_count": 249,
   "metadata": {},
   "outputs": [
    {
     "name": "stdout",
     "output_type": "stream",
     "text": [
      "RMSE: 7.064046430584031\n"
     ]
    }
   ],
   "source": [
    "# Gọi hàm RMSE (tự cài đặt hoặc từ thư viện) trên tập kiểm tra\n",
    "y_hat = model.predict(X_test)\n",
    "print('RMSE:', rmse(y_test, y_hat))"
   ]
  },
  {
   "cell_type": "markdown",
   "metadata": {},
   "source": [
    "Công thức hồi quy\n",
    "\n",
    "$$\\text{Life expectancy} = 0.015101*X_1 + 0.090220*X_2 + 0.042922*X_3 + 0.139289*X_4 + (-0.567333)*X_5 + (-0.000101)*X_6 + 0.740713*X_7 + 0.190936*X_8 + 24.505974*X_9 + 2.393517*X_{10}"
   ]
  },
  {
   "cell_type": "markdown",
   "metadata": {},
   "source": [
    "# Yêu cầu 1b: Xây dựng mô hình sử dụng duy nhất 1 đặc trưng, tìm mô hình cho kết quả tốt nhất (2 điểm)"
   ]
  },
  {
   "cell_type": "markdown",
   "metadata": {},
   "source": [
    "Lưu ý: khi sử dụng cross-validation, sinh viên cần xáo trộn dữ liệu 1 lần duy nhất và thực hiện trên toàn bộ đặc trưng"
   ]
  },
  {
   "cell_type": "code",
   "execution_count": 250,
   "metadata": {},
   "outputs": [
    {
     "name": "stdout",
     "output_type": "stream",
     "text": [
      "The best feature is: Income composition of resources\n"
     ]
    },
    {
     "data": {
      "text/html": [
       "<div>\n",
       "<style scoped>\n",
       "    .dataframe tbody tr th:only-of-type {\n",
       "        vertical-align: middle;\n",
       "    }\n",
       "\n",
       "    .dataframe tbody tr th {\n",
       "        vertical-align: top;\n",
       "    }\n",
       "\n",
       "    .dataframe thead th {\n",
       "        text-align: right;\n",
       "    }\n",
       "</style>\n",
       "<table border=\"1\" class=\"dataframe\">\n",
       "  <thead>\n",
       "    <tr style=\"text-align: right;\">\n",
       "      <th></th>\n",
       "      <th>Feature</th>\n",
       "      <th>RMSE</th>\n",
       "    </tr>\n",
       "  </thead>\n",
       "  <tbody>\n",
       "    <tr>\n",
       "      <th>0</th>\n",
       "      <td>Adult Mortality</td>\n",
       "      <td>45.746295</td>\n",
       "    </tr>\n",
       "    <tr>\n",
       "      <th>1</th>\n",
       "      <td>BMI</td>\n",
       "      <td>28.698386</td>\n",
       "    </tr>\n",
       "    <tr>\n",
       "      <th>2</th>\n",
       "      <td>Polio</td>\n",
       "      <td>19.857105</td>\n",
       "    </tr>\n",
       "    <tr>\n",
       "      <th>3</th>\n",
       "      <td>Diphtheria</td>\n",
       "      <td>15.291881</td>\n",
       "    </tr>\n",
       "    <tr>\n",
       "      <th>4</th>\n",
       "      <td>HIV/AIDS</td>\n",
       "      <td>67.953502</td>\n",
       "    </tr>\n",
       "    <tr>\n",
       "      <th>5</th>\n",
       "      <td>GDP</td>\n",
       "      <td>60.433777</td>\n",
       "    </tr>\n",
       "    <tr>\n",
       "      <th>6</th>\n",
       "      <td>Thinness age 10-19</td>\n",
       "      <td>49.513463</td>\n",
       "    </tr>\n",
       "    <tr>\n",
       "      <th>7</th>\n",
       "      <td>Thinness age 5-9</td>\n",
       "      <td>54.719791</td>\n",
       "    </tr>\n",
       "    <tr>\n",
       "      <th>8</th>\n",
       "      <td>Income composition of resources</td>\n",
       "      <td>10.330604</td>\n",
       "    </tr>\n",
       "    <tr>\n",
       "      <th>9</th>\n",
       "      <td>Schooling</td>\n",
       "      <td>10.782814</td>\n",
       "    </tr>\n",
       "  </tbody>\n",
       "</table>\n",
       "</div>"
      ],
      "text/plain": [
       "                           Feature       RMSE\n",
       "0                  Adult Mortality  45.746295\n",
       "1                              BMI  28.698386\n",
       "2                            Polio  19.857105\n",
       "3                       Diphtheria  15.291881\n",
       "4                         HIV/AIDS  67.953502\n",
       "5                              GDP  60.433777\n",
       "6               Thinness age 10-19  49.513463\n",
       "7                 Thinness age 5-9  54.719791\n",
       "8  Income composition of resources  10.330604\n",
       "9                        Schooling  10.782814"
      ]
     },
     "execution_count": 250,
     "metadata": {},
     "output_type": "execute_result"
    }
   ],
   "source": [
    "# Phần code cho yêu cầu 1b\n",
    "# Tìm ra đặc trưng tốt nhất\n",
    "# In ra các kết quả cross-validation như yêu cầu\n",
    "\n",
    "label = X_train.columns.values\n",
    "list_rmse = []\n",
    "n = 5\n",
    "for name in label:\n",
    "    if name == 'Life expectancy':\n",
    "        continue\n",
    "\n",
    "    X_train_clone = pd.Series.to_frame(X_train[name]).copy()\n",
    "    y_train_clone = y_train.copy()\n",
    "    train_X, test_X, train_y, test_y = train_test_split(X_train_clone, y_train_clone, shuffle = True, test_size=0.2)\n",
    "    RMSE = 0\n",
    "    for i in range(n):\n",
    "        lr = OLSLinearRegression()\n",
    "        lr.fit(train_X, train_y)\n",
    "        y_pred = lr.predict(test_X)\n",
    "        RMSE += rmse(test_y, y_pred)\n",
    "    list_rmse.append([name, RMSE/n])\n",
    "\n",
    "\n",
    "sorted_rmse = sorted(list_rmse, key=lambda x: x[1])\n",
    "min_rmse = sorted_rmse[0]\n",
    "print('The best feature is:', min_rmse[0])\n",
    "\n",
    "prediction = pd.DataFrame(list_rmse, columns=['Feature', 'RMSE'])\n",
    "prediction\n",
    "\n"
   ]
  },
  {
   "cell_type": "code",
   "execution_count": 251,
   "metadata": {},
   "outputs": [
    {
     "data": {
      "text/plain": [
       "array([104.70547983])"
      ]
     },
     "execution_count": 251,
     "metadata": {},
     "output_type": "execute_result"
    }
   ],
   "source": [
    "# Huấn luyện lại mô hình best_feature_model với đặc trưng tốt nhất trên toàn bộ tập huấn luyện\n",
    "X_train_best = X_train[min_rmse[0]].values.reshape(-1, 1)\n",
    "best_feature_model = OLSLinearRegression().fit(X_train_best, y_train)\n",
    "best_feature_model.get_params()"
   ]
  },
  {
   "cell_type": "code",
   "execution_count": 252,
   "metadata": {},
   "outputs": [
    {
     "name": "stdout",
     "output_type": "stream",
     "text": [
      "RMSE: 9.462641625274049\n"
     ]
    }
   ],
   "source": [
    "# Gọi hàm RMSE (tự cài đặt hoặc từ thư viện) trên tập kiểm tra với mô hình best_feature_model\n",
    "y_hat_best = best_feature_model.predict(X_test[min_rmse[0]].values.reshape(-1, 1))\n",
    "print('RMSE:', rmse(y_test, y_hat_best))"
   ]
  },
  {
   "cell_type": "markdown",
   "metadata": {},
   "source": [
    "Công thức hồi quy\n",
    "\n",
    "$$\\text{Life expectancy} = 5.5573994*X$$"
   ]
  },
  {
   "cell_type": "markdown",
   "metadata": {},
   "source": [
    "# Yêu cầu 1c: Sinh viên tự xây dựng mô hình, tìm mô hình cho kết quả tốt nhất (3 điểm)"
   ]
  },
  {
   "cell_type": "markdown",
   "metadata": {},
   "source": [
    "Lưu ý: khi sử dụng cross-validation, sinh viên cần xáo trộn dữ liệu 1 lần duy nhất và thực hiện trên toàn bộ $m$ mô hình mà sinh viên thiết kế"
   ]
  },
  {
   "cell_type": "code",
   "execution_count": 253,
   "metadata": {},
   "outputs": [
    {
     "name": "stdout",
     "output_type": "stream",
     "text": [
      "Schooling                          1.000000\n",
      "Income composition of resources    0.822536\n",
      "BMI                                0.607242\n",
      "GDP                                0.549445\n",
      "Diphtheria                         0.393962\n",
      "Polio                              0.380066\n",
      "HIV/AIDS                          -0.229626\n",
      "Adult Mortality                   -0.439463\n",
      "Thinness age 5-9                  -0.512841\n",
      "Thinness age 10-19                -0.537999\n",
      "Name: Schooling, dtype: float64\n"
     ]
    }
   ],
   "source": [
    "# Phần code cho yêu cầu 1c\n",
    "# Tìm ra mô hình tốt nhất (tự thiết kế bởi sinh viên)\n",
    "# In ra các kết quả cross-validation như yêu cầu\n",
    "\n",
    "correlations = X_train.corr()\n",
    "correlations = correlations.iloc[:, -1]\n",
    "correlations = correlations.sort_values(ascending=False)\n",
    "print(correlations)"
   ]
  },
  {
   "cell_type": "code",
   "execution_count": 254,
   "metadata": {},
   "outputs": [
    {
     "data": {
      "text/plain": [
       "<AxesSubplot:>"
      ]
     },
     "execution_count": 254,
     "metadata": {},
     "output_type": "execute_result"
    },
    {
     "data": {
      "image/png": "[encoded data removed]",
      "text/plain": [
       "<Figure size 792x648 with 2 Axes>"
      ]
     },
     "metadata": {
      "needs_background": "light"
     },
     "output_type": "display_data"
    }
   ],
   "source": [
    "corr_matrix = train.corr()\n",
    "fig, ax = plt.subplots(figsize=(11, 9))\n",
    "sns.heatmap(corr_matrix,cmap=\"Greens\", annot=True, linewidths=.5, ax = ax)"
   ]
  },
  {
   "cell_type": "code",
   "execution_count": 255,
   "metadata": {},
   "outputs": [],
   "source": [
    "p1 = get_features(0.1)\n",
    "p2 = get_features(0.25)\n",
    "p3 = get_features(0.5)\n",
    "p4 = get_features(0.75)\n",
    "y_tr = y_train.copy()\n",
    "p = [p1, p2, p3, p4]\n",
    "\n",
    "models1 = []\n",
    "\n",
    "for i in range(4):\n",
    "    X_1_train = X_train[p[i]].copy()\n",
    "    X_1_test = X_test[p[i]].copy()\n",
    "    models1.append(['Model ' + str(i+1), X_1_train, X_1_test])\n",
    "\n",
    "    X_sqrt_train = np.sqrt(X_train[p[i]]).copy()\n",
    "    X_sqrt_test = np.sqrt(X_test[p[i]]).copy()\n",
    "    models1.append(['Sqrt Model ' + str(i+1), X_sqrt_train, X_sqrt_test])\n",
    "\n",
    "  "
   ]
  },
  {
   "cell_type": "code",
   "execution_count": 256,
   "metadata": {},
   "outputs": [
    {
     "data": {
      "text/html": [
       "<div>\n",
       "<style scoped>\n",
       "    .dataframe tbody tr th:only-of-type {\n",
       "        vertical-align: middle;\n",
       "    }\n",
       "\n",
       "    .dataframe tbody tr th {\n",
       "        vertical-align: top;\n",
       "    }\n",
       "\n",
       "    .dataframe thead th {\n",
       "        text-align: right;\n",
       "    }\n",
       "</style>\n",
       "<table border=\"1\" class=\"dataframe\">\n",
       "  <thead>\n",
       "    <tr style=\"text-align: right;\">\n",
       "      <th></th>\n",
       "      <th>Feature</th>\n",
       "      <th>RMSE</th>\n",
       "    </tr>\n",
       "  </thead>\n",
       "  <tbody>\n",
       "    <tr>\n",
       "      <th>0</th>\n",
       "      <td>Model 1</td>\n",
       "      <td>7.998326</td>\n",
       "    </tr>\n",
       "    <tr>\n",
       "      <th>1</th>\n",
       "      <td>Sqrt Model 1</td>\n",
       "      <td>5.147458</td>\n",
       "    </tr>\n",
       "    <tr>\n",
       "      <th>2</th>\n",
       "      <td>Model 2</td>\n",
       "      <td>9.116151</td>\n",
       "    </tr>\n",
       "    <tr>\n",
       "      <th>3</th>\n",
       "      <td>Sqrt Model 2</td>\n",
       "      <td>5.678077</td>\n",
       "    </tr>\n",
       "    <tr>\n",
       "      <th>4</th>\n",
       "      <td>Model 3</td>\n",
       "      <td>9.619497</td>\n",
       "    </tr>\n",
       "    <tr>\n",
       "      <th>5</th>\n",
       "      <td>Sqrt Model 3</td>\n",
       "      <td>5.501280</td>\n",
       "    </tr>\n",
       "    <tr>\n",
       "      <th>6</th>\n",
       "      <td>Model 4</td>\n",
       "      <td>11.173634</td>\n",
       "    </tr>\n",
       "    <tr>\n",
       "      <th>7</th>\n",
       "      <td>Sqrt Model 4</td>\n",
       "      <td>6.932533</td>\n",
       "    </tr>\n",
       "  </tbody>\n",
       "</table>\n",
       "</div>"
      ],
      "text/plain": [
       "        Feature       RMSE\n",
       "0       Model 1   7.998326\n",
       "1  Sqrt Model 1   5.147458\n",
       "2       Model 2   9.116151\n",
       "3  Sqrt Model 2   5.678077\n",
       "4       Model 3   9.619497\n",
       "5  Sqrt Model 3   5.501280\n",
       "6       Model 4  11.173634\n",
       "7  Sqrt Model 4   6.932533"
      ]
     },
     "execution_count": 256,
     "metadata": {},
     "output_type": "execute_result"
    }
   ],
   "source": [
    "list_best = []\n",
    "\n",
    "for mod in models1:\n",
    "    train_X, test_X, train_y, test_y = train_test_split(mod[1], y_tr, shuffle = True, test_size=0.2)\n",
    "    RMSE = 0\n",
    "    for i in range(n):\n",
    "        lr = OLSLinearRegression()\n",
    "        lr.fit(train_X, train_y)\n",
    "        y_pred = lr.predict(test_X)\n",
    "        RMSE += rmse(test_y, y_pred)\n",
    "\n",
    "    list_best.append([mod[0], RMSE/n])\n",
    "\n",
    "\n",
    "prediction = pd.DataFrame(list_best, columns=['Feature', 'RMSE'])\n",
    "prediction"
   ]
  },
  {
   "cell_type": "code",
   "execution_count": 257,
   "metadata": {},
   "outputs": [
    {
     "data": {
      "text/plain": [
       "0    14.091507\n",
       "1     9.579369\n",
       "2     0.552901\n",
       "3     0.001705\n",
       "4     0.801555\n",
       "5     0.186563\n",
       "6    -3.208658\n",
       "7    -0.009331\n",
       "8    -0.009752\n",
       "9     1.818148\n",
       "dtype: float64"
      ]
     },
     "execution_count": 257,
     "metadata": {},
     "output_type": "execute_result"
    }
   ],
   "source": [
    "X_best_model = np.sqrt(X_train[p[0]]).copy()\n",
    "y_best_model = y_train.copy()\n",
    "X_test_best_model = np.sqrt(X_test[p[0]]).copy()\n",
    "\n",
    "lr_best_model = OLSLinearRegression()\n",
    "lr_best_model.fit(X_best_model, y_best_model)\n",
    "lr_best_model.get_params()"
   ]
  },
  {
   "cell_type": "code",
   "execution_count": 258,
   "metadata": {},
   "outputs": [
    {
     "name": "stdout",
     "output_type": "stream",
     "text": [
      "RMSE: 4.7680380241569695\n"
     ]
    }
   ],
   "source": [
    "y_pred = lr_best_model.predict(X_test_best_model)\n",
    "print('RMSE:', rmse(y_test, y_pred))"
   ]
  },
  {
   "cell_type": "markdown",
   "metadata": {},
   "source": [
    "Công thức hồi quy\n",
    "\n",
    "$$\\text{Life expectancy} = 14.091507*\\sqrt{X_1} +  9.579369*\\sqrt{X_2} +  0.552901*\\sqrt{X_3} + 0.001705*\\sqrt{X_4} +0.801555*\\sqrt{X_5} + 0.186563*\\sqrt{X_6} + (-3.208658)*\\sqrt{X_7} + (-0.009331)*\\sqrt{X_8} + (-0.009752)*\\sqrt{X_9} +   1.818148*\\sqrt{X_{10} }$$"
   ]
  }
 ],
 "metadata": {
  "kernelspec": {
   "display_name": "Python 3.10.4 64-bit",
   "language": "python",
   "name": "python3"
  },
  "language_info": {
   "codemirror_mode": {
    "name": "ipython",
    "version": 3
   },
   "file_extension": ".py",
   "mimetype": "text/x-python",
   "name": "python",
   "nbconvert_exporter": "python",
   "pygments_lexer": "ipython3",
   "version": "3.10.4"
  },
  "orig_nbformat": 4,
  "vscode": {
   "interpreter": {
    "hash": "a42ccb73e7d9bfdf27e036f1d2b8b681e55fc0743cc5586bc2474d4a60f4b886"
   }
  }
 },
 "nbformat": 4,
 "nbformat_minor": 2
}
