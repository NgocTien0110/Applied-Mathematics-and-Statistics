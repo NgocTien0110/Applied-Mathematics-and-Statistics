{
 "cells": [
  {
   "cell_type": "markdown",
   "metadata": {},
   "source": [
    "# <center>Ma trận trong Python</center>"
   ]
  },
  {
   "cell_type": "markdown",
   "metadata": {},
   "source": [
    "## Mục lục\n",
    "* [Thực hành](#c1)\n",
    "    * [Khai báo ma trận](#c11)\n",
    "    * [Các phép toán cơ bản trên ma trận](#c12)\n",
    "    * [Định thức](#c13)\n",
    "    * [Nghịch đảo ma trận](#c14)\n",
    "* [Đồ án 1 - Color Compression](#c2)\n",
    "    * [Nội dung đồ án](#c21)\n",
    "    * [Quy định nộp bài](#c22)\n",
    "    * [Quy định chấm bài](#c23)"
   ]
  },
  {
   "cell_type": "markdown",
   "metadata": {},
   "source": [
    "## Thực hành <a class=\"anchor\" id=\"c1\"></a>"
   ]
  },
  {
   "cell_type": "markdown",
   "metadata": {},
   "source": [
    "Trong bài lab này, chúng ta sẽ đồng thời sử dụng `list` và  `NumPy` để thực hiện các phép toán trên ma trận.\n",
    "\n",
    "Trong đó, sử dụng `list` để thực hiện các phép toán bằng code thủ công; sử dụng `NumPy` để gọi các hàm có sẵn trong thư viện."
   ]
  },
  {
   "cell_type": "code",
   "execution_count": 1,
   "metadata": {},
   "outputs": [],
   "source": [
    "import numpy as np\n",
    "\n",
    "def my_print(x, sep=\" \"):\n",
    "    if isinstance(x, list) and x:\n",
    "        if isinstance(x[0], list): # list of list\n",
    "            m, n = len(x), len(x[0])\n",
    "            widths = [max(len(str(ai[j])) for ai in x) for j in range(n)]\n",
    "            rows = [sep.join(format(str(ai[j]), f\">{widths[j]}\") for j in range(n)) for ai in x]\n",
    "            print(\"[\" + \"\\n\".join((\" [\" if i > 0 else \"[\") + rows[i] + \"]\" for i in range(m)) + \"]\")\n",
    "        else: # list\n",
    "            print(\"[\" + sep.join(str(e) for e in x) + \"]\")\n",
    "    else:\n",
    "        print(x)"
   ]
  },
  {
   "cell_type": "markdown",
   "metadata": {},
   "source": [
    "### Khai báo ma trận <a class=\"anchor\" id=\"c11\"></a>"
   ]
  },
  {
   "cell_type": "markdown",
   "metadata": {},
   "source": [
    "Trong Python, ma trận có thể biểu diễn bằng kiểu dữ liệu `list` (`list` of `list`) hoặc mảng NumPy 2 chiều (`np.array`). Giả sử với ma trận:\n",
    "$$A = \\begin{bmatrix}\n",
    "    1   & 1.5 & -1.2\\\\ \n",
    "    2   & 3.7 & 8\\\\ \n",
    "    3.5 & 2.5 & 4\n",
    "    \\end{bmatrix}$$\n",
    "\n",
    "Ta có thể biểu diễn bằng kiểu dữ liệu `list` như sau:"
   ]
  },
  {
   "cell_type": "code",
   "execution_count": 2,
   "metadata": {},
   "outputs": [
    {
     "name": "stdout",
     "output_type": "stream",
     "text": [
      "- The number of rows: 3\n",
      "- The number of columns: 3\n",
      "[[  1 1.5 -1.2]\n",
      " [  2 3.7    8]\n",
      " [3.5 2.5    4]]\n"
     ]
    }
   ],
   "source": [
    "A_list = [[1, 1.5, -1.2],\n",
    "          [2, 3.7, 8],\n",
    "          [3.5, 2.5, 4]]\n",
    "\n",
    "print(f'- The number of rows: {len(A_list)}\\n- The number of columns: {len(A_list[0])}')\n",
    "my_print(A_list)"
   ]
  },
  {
   "cell_type": "markdown",
   "metadata": {},
   "source": [
    "Và có thể biểu diễn trong NumPy như sau:"
   ]
  },
  {
   "cell_type": "code",
   "execution_count": 3,
   "metadata": {},
   "outputs": [
    {
     "name": "stdout",
     "output_type": "stream",
     "text": [
      "- The number of rows: 3\n",
      "- The number of cols: 3\n",
      "[[ 1.   1.5 -1.2]\n",
      " [ 2.   3.7  8. ]\n",
      " [ 3.5  2.5  4. ]]\n"
     ]
    }
   ],
   "source": [
    "A_np = np.array(A_list)\n",
    "\n",
    "print(f'- The number of rows: {A_np.shape[0]}\\n- The number of cols: {A_np.shape[1]}')\n",
    "print(A_np)"
   ]
  },
  {
   "cell_type": "markdown",
   "metadata": {},
   "source": [
    "#### Khởi tạo ma trận toàn 0"
   ]
  },
  {
   "cell_type": "markdown",
   "metadata": {},
   "source": [
    "##### Trên `list` "
   ]
  },
  {
   "cell_type": "code",
   "execution_count": 4,
   "metadata": {},
   "outputs": [],
   "source": [
    "def create_zero_matrix(n_row, n_col):\n",
    "    return [[0 for _ in range(n_col)] for _ in range(n_row)]"
   ]
  },
  {
   "cell_type": "code",
   "execution_count": 5,
   "metadata": {},
   "outputs": [
    {
     "name": "stdout",
     "output_type": "stream",
     "text": [
      "[[0 0 0]\n",
      " [0 0 0]\n",
      " [0 0 0]]\n"
     ]
    }
   ],
   "source": [
    "my_print(create_zero_matrix(3, 3))"
   ]
  },
  {
   "cell_type": "markdown",
   "metadata": {},
   "source": [
    "##### Trên `NumPy`"
   ]
  },
  {
   "cell_type": "code",
   "execution_count": 6,
   "metadata": {},
   "outputs": [
    {
     "data": {
      "text/plain": [
       "array([[0., 0., 0.],\n",
       "       [0., 0., 0.],\n",
       "       [0., 0., 0.]])"
      ]
     },
     "execution_count": 6,
     "metadata": {},
     "output_type": "execute_result"
    }
   ],
   "source": [
    "np.zeros((3, 3))"
   ]
  },
  {
   "cell_type": "markdown",
   "metadata": {},
   "source": [
    "#### Khai báo ma trận toàn 1"
   ]
  },
  {
   "cell_type": "code",
   "execution_count": 7,
   "metadata": {},
   "outputs": [
    {
     "data": {
      "text/plain": [
       "array([[1., 1., 1.],\n",
       "       [1., 1., 1.],\n",
       "       [1., 1., 1.]])"
      ]
     },
     "execution_count": 7,
     "metadata": {},
     "output_type": "execute_result"
    }
   ],
   "source": [
    "### YOUR CODE HERE\n",
    "### Numpy\n",
    "np.ones((3,3))"
   ]
  },
  {
   "cell_type": "code",
   "execution_count": 10,
   "metadata": {},
   "outputs": [],
   "source": [
    "### List\n",
    "def create_zero_matrix(n_row, n_col):\n",
    "    return [[1 for _ in range(n_col)] for _ in range(n_row)]"
   ]
  },
  {
   "cell_type": "code",
   "execution_count": 11,
   "metadata": {},
   "outputs": [
    {
     "name": "stdout",
     "output_type": "stream",
     "text": [
      "[[1 1 1]\n",
      " [1 1 1]\n",
      " [1 1 1]]\n"
     ]
    }
   ],
   "source": [
    "my_print(create_zero_matrix(3, 3))"
   ]
  },
  {
   "cell_type": "markdown",
   "metadata": {},
   "source": [
    "#### Khai báo ma trận đơn vị"
   ]
  },
  {
   "cell_type": "markdown",
   "metadata": {},
   "source": [
    "##### Trên `list`"
   ]
  },
  {
   "cell_type": "code",
   "execution_count": 12,
   "metadata": {},
   "outputs": [],
   "source": [
    "def create_identity_matrix(n):\n",
    "    return [[1 if i == j else 0 for j in range(n)] for i in range(n)]"
   ]
  },
  {
   "cell_type": "code",
   "execution_count": 13,
   "metadata": {
    "scrolled": true
   },
   "outputs": [
    {
     "name": "stdout",
     "output_type": "stream",
     "text": [
      "[[1 0 0]\n",
      " [0 1 0]\n",
      " [0 0 1]]\n"
     ]
    }
   ],
   "source": [
    "my_print(create_identity_matrix(3))"
   ]
  },
  {
   "cell_type": "markdown",
   "metadata": {},
   "source": [
    "##### Trên `NumPy`"
   ]
  },
  {
   "cell_type": "code",
   "execution_count": 14,
   "metadata": {},
   "outputs": [
    {
     "name": "stdout",
     "output_type": "stream",
     "text": [
      "[[1. 0. 0.]\n",
      " [0. 1. 0.]\n",
      " [0. 0. 1.]]\n"
     ]
    }
   ],
   "source": [
    "my_print(np.eye(3))"
   ]
  },
  {
   "cell_type": "markdown",
   "metadata": {},
   "source": [
    "### Các phép toán cơ bản trên ma trận <a class=\"anchor\" id=\"c12\"></a>"
   ]
  },
  {
   "cell_type": "markdown",
   "metadata": {},
   "source": [
    "#### Nhân số với ma trận"
   ]
  },
  {
   "cell_type": "code",
   "execution_count": 15,
   "metadata": {},
   "outputs": [],
   "source": [
    "def multiply_scalar_matrix(scalar, A_list):\n",
    "    return [[scalar * a for a in a_row] for a_row in A_list]"
   ]
  },
  {
   "cell_type": "code",
   "execution_count": 16,
   "metadata": {
    "scrolled": false
   },
   "outputs": [
    {
     "name": "stdout",
     "output_type": "stream",
     "text": [
      "[[  2 3.0 -2.4]\n",
      " [  4 7.4   16]\n",
      " [7.0 5.0    8]]\n"
     ]
    }
   ],
   "source": [
    "my_print(multiply_scalar_matrix(2, A_list))"
   ]
  },
  {
   "cell_type": "markdown",
   "metadata": {},
   "source": [
    "#### Cộng ma trận"
   ]
  },
  {
   "cell_type": "markdown",
   "metadata": {},
   "source": [
    "##### Cộng ma trận với ma trận"
   ]
  },
  {
   "cell_type": "markdown",
   "metadata": {},
   "source": [
    "###### Thực hiện trên `A_list` (cách làm thủ công)"
   ]
  },
  {
   "cell_type": "code",
   "execution_count": 17,
   "metadata": {},
   "outputs": [],
   "source": [
    "def add_matrix_list(A_list, B_list):\n",
    "#     # Cách 1: Cơ bản\n",
    "#     # Khởi tạo ma trận kết quả\n",
    "#     C_list = [[0 for _ in range(len(A_list[0]))] for _ in range(len(A_list))]\n",
    "\n",
    "#     m_row = len(A_list)\n",
    "#     n_col = len(A_list[0])\n",
    "#     for i_row in range(m_row):\n",
    "#         for i_col in range(n_col):\n",
    "#             C_list[i_row][i_col] = A_list[i_row][i_col] + B_list[i_row][i_col]\n",
    "     \n",
    "    \n",
    "    # Cách 2: List Comprehension\n",
    "    C_list = [[a + b for (a, b) in zip(a_row, b_row)] for (a_row, b_row) in zip(A_list, B_list)]   \n",
    "    \n",
    "    return C_list"
   ]
  },
  {
   "cell_type": "code",
   "execution_count": 18,
   "metadata": {
    "scrolled": true
   },
   "outputs": [
    {
     "name": "stdout",
     "output_type": "stream",
     "text": [
      "[[  1 1.5 -1.2]\n",
      " [  2 3.7    8]\n",
      " [3.5 2.5    4]]\n",
      "\n",
      "[[  2 1.5  1.2]\n",
      " [  3   7 -9.5]\n",
      " [5.5   2    4]]\n",
      "\n",
      "[[  3  3.0  0.0]\n",
      " [  5 10.7 -1.5]\n",
      " [9.0  4.5    8]]\n"
     ]
    }
   ],
   "source": [
    "# Tạo ra ma trận cần cộng\n",
    "B_list = [[2, 1.5, 1.2],\n",
    "          [3, 7, -9.5],\n",
    "          [5.5, 2, 4]]\n",
    "\n",
    "my_print(A_list)\n",
    "print()\n",
    "my_print(B_list)\n",
    "print()\n",
    "\n",
    "my_print(add_matrix_list(A_list, B_list))"
   ]
  },
  {
   "cell_type": "markdown",
   "metadata": {},
   "source": [
    "###### Thực hiện trên `A_np` (sử dụng hàm của thư viện `NumPy`)"
   ]
  },
  {
   "cell_type": "code",
   "execution_count": 15,
   "metadata": {},
   "outputs": [
    {
     "name": "stdout",
     "output_type": "stream",
     "text": [
      "[[ 3.   3.   0. ]\n",
      " [ 5.  10.7 -1.5]\n",
      " [ 9.   4.5  8. ]]\n"
     ]
    }
   ],
   "source": [
    "B_np = np.array(B_list)\n",
    "\n",
    "print(A_np + B_np)"
   ]
  },
  {
   "cell_type": "markdown",
   "metadata": {},
   "source": [
    "##### Cộng ma trận với 1 số"
   ]
  },
  {
   "cell_type": "code",
   "execution_count": 25,
   "metadata": {},
   "outputs": [],
   "source": [
    "### YOUR CODE HERE\n",
    "M = np.ones((3,3))\n",
    "M2 = multiply_scalar_matrix(3, M)\n",
    "\n"
   ]
  },
  {
   "cell_type": "code",
   "execution_count": 27,
   "metadata": {},
   "outputs": [
    {
     "name": "stdout",
     "output_type": "stream",
     "text": [
      "[[  1 1.5 -1.2]\n",
      " [  2 3.7    8]\n",
      " [3.5 2.5    4]]\n",
      "\n",
      "[[3.0 3.0 3.0]\n",
      " [3.0 3.0 3.0]\n",
      " [3.0 3.0 3.0]]\n",
      "\n",
      "[[4.0 4.5  1.8]\n",
      " [5.0 6.7 11.0]\n",
      " [6.5 5.5  7.0]]\n"
     ]
    }
   ],
   "source": [
    "my_print(A_list)\n",
    "print()\n",
    "my_print(M2)\n",
    "print()\n",
    "\n",
    "my_print(add_matrix_list(A_list, M2))"
   ]
  },
  {
   "cell_type": "markdown",
   "metadata": {},
   "source": [
    "#### Trừ, nhân, chia các phần tử tương ứng của 2 ma trận"
   ]
  },
  {
   "cell_type": "markdown",
   "metadata": {},
   "source": [
    "Tương tự với cộng 2 ma trận, các phép toán còn lại tương tự."
   ]
  },
  {
   "cell_type": "markdown",
   "metadata": {},
   "source": [
    "##### Trên `A_list`"
   ]
  },
  {
   "cell_type": "code",
   "execution_count": 28,
   "metadata": {},
   "outputs": [],
   "source": [
    "def op_matrix_list(A_list, B_list, op):\n",
    "    if op == '+':\n",
    "        return [[a + b for (a, b) in zip(a_row, b_row)] for (a_row, b_row) in zip(A_list, B_list)]\n",
    "    elif op == '-':\n",
    "        return [[a - b for (a, b) in zip(a_row, b_row)] for (a_row, b_row) in zip(A_list, B_list)]\n",
    "    elif op == '*': # element-wise\n",
    "        return [[a * b for (a, b) in zip(a_row, b_row)] for (a_row, b_row) in zip(A_list, B_list)]\n",
    "    elif op == '/': # element-wise\n",
    "        return [[a / b for (a, b) in zip(a_row, b_row)] for (a_row, b_row) in zip(A_list, B_list)]\n",
    "    else:\n",
    "        raise ValueError(f'Can\\'t understand operator {op}')"
   ]
  },
  {
   "cell_type": "code",
   "execution_count": 29,
   "metadata": {},
   "outputs": [
    {
     "name": "stdout",
     "output_type": "stream",
     "text": [
      "Subtraction of Matrices:\n",
      "[[  -1  0.0 -2.4]\n",
      " [  -1 -3.3 17.5]\n",
      " [-2.0  0.5    0]]\n",
      "\n",
      "Element-Wise Multiplication of Matrices:\n",
      "[[    2               2.25 -1.44]\n",
      " [    6 25.900000000000002 -76.0]\n",
      " [19.25                5.0    16]]\n",
      "\n",
      "Element-Wise Division of Matrices:\n",
      "[[               0.5                1.0                -1.0]\n",
      " [0.6666666666666666 0.5285714285714286 -0.8421052631578947]\n",
      " [0.6363636363636364               1.25                 1.0]]\n"
     ]
    }
   ],
   "source": [
    "print('Subtraction of Matrices:')\n",
    "my_print(op_matrix_list(A_list, B_list, '-'))\n",
    "\n",
    "print('\\nElement-Wise Multiplication of Matrices:')\n",
    "my_print(op_matrix_list(A_list, B_list, '*'))\n",
    "\n",
    "print('\\nElement-Wise Division of Matrices:') \n",
    "my_print(op_matrix_list(A_list, B_list, '/'))"
   ]
  },
  {
   "cell_type": "markdown",
   "metadata": {},
   "source": [
    "##### Trên `A_np`"
   ]
  },
  {
   "cell_type": "code",
   "execution_count": 19,
   "metadata": {},
   "outputs": [
    {
     "name": "stdout",
     "output_type": "stream",
     "text": [
      "Subtraction of Matrices: \n",
      " [[-1.   0.  -2.4]\n",
      " [-1.  -3.3 17.5]\n",
      " [-2.   0.5  0. ]]\n",
      "\n",
      "Element-Wise Multiplication of Matrices: \n",
      " [[  2.     2.25  -1.44]\n",
      " [  6.    25.9  -76.  ]\n",
      " [ 19.25   5.    16.  ]]\n",
      "\n",
      "Element-Wise Division of Matrices: \n",
      " [[ 0.5         1.         -1.        ]\n",
      " [ 0.66666667  0.52857143 -0.84210526]\n",
      " [ 0.63636364  1.25        1.        ]]\n"
     ]
    }
   ],
   "source": [
    "print('Subtraction of Matrices: \\n', A_np - B_np)\n",
    "print('\\nElement-Wise Multiplication of Matrices: \\n', A_np * B_np)\n",
    "print('\\nElement-Wise Division of Matrices: \\n', A_np / B_np)"
   ]
  },
  {
   "cell_type": "markdown",
   "metadata": {},
   "source": [
    "#### Nhân 2 ma trận"
   ]
  },
  {
   "cell_type": "markdown",
   "metadata": {},
   "source": [
    "##### Trên `A_list`"
   ]
  },
  {
   "cell_type": "code",
   "execution_count": 20,
   "metadata": {},
   "outputs": [],
   "source": [
    "def multiply_matrix(A_list, B_list):\n",
    "    m_row = len(A_list)\n",
    "    n_col = len(B_list[0])\n",
    "    \n",
    "    # Khởi tạo ma trận kết quả\n",
    "    C_list = [[0 for _ in range(n_col)] for _ in range(m_row)]\n",
    "\n",
    "    for i_row in range(m_row):\n",
    "        for i_col in range(n_col):\n",
    "            total = 0\n",
    "            for i,a in enumerate(A_list[i_row]):  # Duyệt qua từng phần tử trong dòng thứ i_row (A_list)\n",
    "                total += a*B_list[i][i_col]       # Nhân từng phần tử với phân tử thứ i trong cột thứ i_col (B_list)\n",
    "            C_list[i_row][i_col] = total\n",
    "\n",
    "    return C_list"
   ]
  },
  {
   "cell_type": "code",
   "execution_count": 21,
   "metadata": {},
   "outputs": [
    {
     "data": {
      "text/plain": [
       "[[-0.09999999999999964, 9.6, -17.85],\n",
       " [59.1, 44.900000000000006, -0.75],\n",
       " [36.5, 30.75, -3.5500000000000007]]"
      ]
     },
     "execution_count": 21,
     "metadata": {},
     "output_type": "execute_result"
    }
   ],
   "source": [
    "multiply_matrix(A_list, B_list)"
   ]
  },
  {
   "cell_type": "markdown",
   "metadata": {},
   "source": [
    "##### Trên `A_np`"
   ]
  },
  {
   "cell_type": "code",
   "execution_count": 22,
   "metadata": {},
   "outputs": [
    {
     "data": {
      "text/plain": [
       "array([[ -0.1 ,   9.6 , -17.85],\n",
       "       [ 59.1 ,  44.9 ,  -0.75],\n",
       "       [ 36.5 ,  30.75,  -3.55]])"
      ]
     },
     "execution_count": 22,
     "metadata": {},
     "output_type": "execute_result"
    }
   ],
   "source": [
    "np.matmul(A_np, B_np) # A_np @ B_np"
   ]
  },
  {
   "cell_type": "markdown",
   "metadata": {},
   "source": [
    "#### Chuyển vị ma trận"
   ]
  },
  {
   "cell_type": "code",
   "execution_count": 31,
   "metadata": {},
   "outputs": [
    {
     "name": "stdout",
     "output_type": "stream",
     "text": [
      "Trước khi chuyển vị\n",
      "[[1 2 3]\n",
      " [4 5 6]]\n",
      "\n",
      "Sau khi chuyển vị\n",
      "[[1 4]\n",
      " [2 5]\n",
      " [3 6]]\n"
     ]
    }
   ],
   "source": [
    "### YOUR CODE HERE\n",
    "def transpose(A):\n",
    "    m, n = len(A), len(A[0]) # kích thước ma trận\n",
    "    return [[A[i][j] for i in range(m)] for j in range(n)]\n",
    "\n",
    "A = [[1, 2, 3], \n",
    "     [4, 5, 6]]\n",
    "\n",
    "print('Trước khi chuyển vị')\n",
    "my_print(A)\n",
    "\n",
    "print('\\nSau khi chuyển vị')\n",
    "my_print(transpose(A))"
   ]
  },
  {
   "cell_type": "code",
   "execution_count": 32,
   "metadata": {},
   "outputs": [
    {
     "name": "stdout",
     "output_type": "stream",
     "text": [
      "Trước khi chuyển vị\n",
      "[[1 2 3]\n",
      " [4 5 6]]\n",
      "\n",
      "Sau khi chuyển vị\n",
      "[[1 4]\n",
      " [2 5]\n",
      " [3 6]]\n"
     ]
    }
   ],
   "source": [
    "### CACH KHAC\n",
    "def transpose(A):\n",
    "    return list(map(list, zip(*A)))\n",
    "\n",
    "print('Trước khi chuyển vị')\n",
    "my_print(A)\n",
    "\n",
    "print('\\nSau khi chuyển vị')\n",
    "my_print(transpose(A))"
   ]
  },
  {
   "cell_type": "markdown",
   "metadata": {},
   "source": [
    "### Định thức <a class=\"anchor\" id=\"c13\"></a>"
   ]
  },
  {
   "cell_type": "code",
   "execution_count": 33,
   "metadata": {},
   "outputs": [],
   "source": [
    "A_list = [[0, 1, 2],\n",
    "          [3, 5, 5],\n",
    "          [5, 7, 5]]\n",
    "\n",
    "A_np = np.array(A_list)"
   ]
  },
  {
   "cell_type": "markdown",
   "metadata": {},
   "source": [
    "#### Trên `A_list`"
   ]
  },
  {
   "cell_type": "code",
   "execution_count": 25,
   "metadata": {},
   "outputs": [],
   "source": [
    "def create_submatrix(A, i_row, i_col):\n",
    "    sub_A = A[:] # Tạo ra ma trận mới giống A (clone A)\n",
    "    \n",
    "    # Bỏ dòng\n",
    "    sub_A = sub_A[:i_row] + sub_A[i_row+1:]\n",
    "    \n",
    "    # Bỏ cột\n",
    "    n_row_sub = len(sub_A)\n",
    "    for i in range(n_row_sub): \n",
    "        sub_A[i] = sub_A[i][:i_col] + sub_A[i][i_col+1:]\n",
    "        \n",
    "    return sub_A\n",
    "\n",
    "\n",
    "# Dành cho ma trận vuông\n",
    "def calc_determinant(A):\n",
    "    # Trường hợp cơ bản, định thức của ma trận 1x1\n",
    "    if len(A) == 1 and len(A[0]) == 1:\n",
    "        return A[0][0]\n",
    "    \n",
    "    total = 0\n",
    " \n",
    "    # Duyệt qua từng cột để loại bỏ\n",
    "    for i_col in range(len(A[0])):\n",
    "        sub_A = create_submatrix(A, 0, i_col)\n",
    " \n",
    "        # Tìm dấu\n",
    "        sign = (-1) ** (i_col % 2)\n",
    "        \n",
    "        # Gọi đệ quy cho các ma trận con\n",
    "        sub_det = calc_determinant(sub_A)\n",
    "        \n",
    "        # Cộng dồn định thức khi bỏ cột i_col\n",
    "        total += sign * A[0][i_col] * sub_det \n",
    " \n",
    "    return total"
   ]
  },
  {
   "cell_type": "code",
   "execution_count": 26,
   "metadata": {},
   "outputs": [
    {
     "data": {
      "text/plain": [
       "2"
      ]
     },
     "execution_count": 26,
     "metadata": {},
     "output_type": "execute_result"
    }
   ],
   "source": [
    "calc_determinant(A_list)"
   ]
  },
  {
   "cell_type": "markdown",
   "metadata": {},
   "source": [
    "#### Trên `A_np` "
   ]
  },
  {
   "cell_type": "code",
   "execution_count": 27,
   "metadata": {},
   "outputs": [
    {
     "data": {
      "text/plain": [
       "2.00000000000001"
      ]
     },
     "execution_count": 27,
     "metadata": {},
     "output_type": "execute_result"
    }
   ],
   "source": [
    "np.linalg.det(A_np)"
   ]
  },
  {
   "cell_type": "markdown",
   "metadata": {},
   "source": [
    "### Nghịch đảo ma trận <a class=\"anchor\" id=\"c14\"></a>"
   ]
  },
  {
   "cell_type": "markdown",
   "metadata": {},
   "source": [
    "#### Trên `A_list` "
   ]
  },
  {
   "cell_type": "markdown",
   "metadata": {},
   "source": [
    "##### Cách 1"
   ]
  },
  {
   "cell_type": "code",
   "execution_count": 28,
   "metadata": {},
   "outputs": [],
   "source": [
    "import math\n",
    "def is_zero(x):\n",
    "    # kiểm tra số thực x có là số thực 0 (rất gần 0)\n",
    "    return math.isclose(x, 0, abs_tol=1e-09)\n",
    "    # |a - b| <= 0.00000000001 --> a ~ b\n",
    "\n",
    "def row_switch(A, i, k):\n",
    "    \"di <-> dk\"\n",
    "    A[i], A[k] = A[k], A[i]\n",
    "\n",
    "def row_mul(A, i, alpha):\n",
    "    \"di = alpha*di\"\n",
    "    A[i] = [alpha*Aii for Aii in A[i]]\n",
    "\n",
    "def row_add(A, i, k, alpha):\n",
    "    \"di = di + anpha*dk\"\n",
    "    A[i] = [0 if math.isclose(abs(Aii + alpha*Aki), 0, abs_tol=1e-10) else Aii + alpha*Aki \n",
    "                for Aii, Aki in zip(A[i], A[k])] # Xấp xỉ số gần 0 về 0\n",
    "\n",
    "def create_augmented_matrix(A):\n",
    "    # Tạo ma trận đơn vị\n",
    "    I = create_identity_matrix(len(A))\n",
    "    return [Ai[:] + Ii for Ai, Ii in zip(A, I)] # Ai[:] để copy dòng Ai, tránh thay đổi trên A gốc\n",
    "\n",
    "# Phép khử Gauss-Jordan\n",
    "def Gauss_Jordan(A):\n",
    "    # Nối ma trận A với ma trận đơn vị\n",
    "    augmented_A = create_augmented_matrix(A)\n",
    "\n",
    "    n_row = len(A)\n",
    "    n_col_A = len(A[0])\n",
    "\n",
    "    row = col = 0\n",
    "\n",
    "    while row < n_row:\n",
    "        # Bước 1: Xác định cột trái nhất không chứa toàn số 0\n",
    "        while col < n_col_A and all(is_zero(augmented_A[i][col]) for i in range(row, n_row)):\n",
    "            col += 1\n",
    "        if col == n_col_A: # Đã có dạng bậc thang\n",
    "            break\n",
    "        \n",
    "        # Bước 2: Chọn dòng đầu tiên đã có số hạng khác 0\n",
    "        pivot_row = row + [not is_zero(augmented_A[i][col]) for i in range(row, n_row)].index(True)\n",
    "        row_switch(augmented_A, row, pivot_row)\n",
    "\n",
    "        # Bước 3: Chuẩn hóa leading\n",
    "        row_mul(augmented_A, row, 1/augmented_A[row][col])\n",
    "\n",
    "        # Bước 4: Cộng một bội số thích hợp của dòng đăng xét cho **các dòng khác** để biến các số hạng tại cột thứ col thành 0)\n",
    "        for i in range(n_row):\n",
    "            if i == row:\n",
    "                continue\n",
    "            \n",
    "            multiplier = augmented_A[i][col]/augmented_A[row][col]\n",
    "            row_add(augmented_A, i, row, -multiplier)\n",
    "\n",
    "        row += 1\n",
    "\n",
    "    return augmented_A\n",
    "\n",
    "# Nghịch đảo ma trận sử dụng Gauss-Jordan\n",
    "def invert_matrix_GJ(A):\n",
    "    n_col_A = len(A[0])\n",
    "    GJ_A = Gauss_Jordan(A)\n",
    "\n",
    "    # Tách ma trận bên phải và ma trận bên trái khỏi ma trận sau khi dùng Gauss-Jordan\n",
    "    lmatrix = [GJ_Ai[:n_col_A] for GJ_Ai in GJ_A]\n",
    "    rmatrix = [GJ_Ai[n_col_A:] for GJ_Ai in GJ_A]\n",
    "\n",
    "    # Kiểm tra ma trận có khả nghịch không\n",
    "    if lmatrix[-1][-1] == 0:\n",
    "        print('Singular matrix')\n",
    "        return None\n",
    "\n",
    "    return rmatrix\n"
   ]
  },
  {
   "cell_type": "code",
   "execution_count": 34,
   "metadata": {},
   "outputs": [
    {
     "data": {
      "text/plain": [
       "array([[-5. ,  4.5, -2.5],\n",
       "       [ 5. , -5. ,  3. ],\n",
       "       [-2. ,  2.5, -1.5]])"
      ]
     },
     "execution_count": 34,
     "metadata": {},
     "output_type": "execute_result"
    }
   ],
   "source": [
    "### \n",
    "np.linalg.inv(A_np)"
   ]
  },
  {
   "cell_type": "code",
   "execution_count": 29,
   "metadata": {},
   "outputs": [
    {
     "name": "stdout",
     "output_type": "stream",
     "text": [
      "[[ -4.999999999999991  4.499999999999992 -2.4999999999999956]\n",
      " [  4.999999999999989 -4.999999999999991  2.9999999999999947]\n",
      " [-1.9999999999999947 2.4999999999999956 -1.4999999999999973]]\n"
     ]
    }
   ],
   "source": [
    "my_print(invert_matrix_GJ(A_list))"
   ]
  },
  {
   "cell_type": "markdown",
   "metadata": {},
   "source": [
    "##### Cách 2"
   ]
  },
  {
   "cell_type": "code",
   "execution_count": 30,
   "metadata": {},
   "outputs": [],
   "source": [
    "def transpose(A):\n",
    "    return list(map(list, zip(*A)))\n",
    "\n",
    "\n",
    "# Cho ma trận vuông\n",
    "def invert_matrix(A):\n",
    "    n_row = len(A)\n",
    "    n_col = len(A[0])\n",
    "    \n",
    "    # Nếu ma trận không vuông\n",
    "    if n_row != n_col:\n",
    "        raise ValueError('Not a square matrix')\n",
    "        return None\n",
    "    \n",
    "    # Tính định thức cho ma trận\n",
    "    det_A = calc_determinant(A)\n",
    "    \n",
    "    # Trả về None khi ma trận không khả nghịch\n",
    "    if det_A == 0:\n",
    "        raise ValueError('Singular matrix')\n",
    "        return None\n",
    "    \n",
    "    # Xử lý trường hợp ma trận cấp 1\n",
    "    if n_row == 1 and n_col == 1:\n",
    "        return 1/det_A\n",
    "    \n",
    "    # Tạo ma trận kết quả\n",
    "    A_res = [[0 for _ in range(n_col)] for _ in range(n_row)]\n",
    "    \n",
    "    # A_res = adj(A)/det_A -----------------------------------------------------------------\n",
    "    # B1: Chuyển vị ma trận gốc\n",
    "    A_trans = transpose(A)\n",
    "    \n",
    "    # B2: Tính adj(A) đồng thời gán kết quả vào A_res\n",
    "    for i_row in range(n_row):\n",
    "        for i_col in range(n_col):\n",
    "            # Tạo ra các ma trận con\n",
    "            sub_A = create_submatrix(A_trans, i_row, i_col)\n",
    " \n",
    "            # Tìm dấu\n",
    "            sign = (-1) ** (i_row + i_col)\n",
    "            \n",
    "            A_res[i_row][i_col] = sign * calc_determinant(sub_A)\n",
    " \n",
    "    # B3: Chia định thức\n",
    "    A_res = multiply_scalar_matrix(1/det_A, A_res)\n",
    "    \n",
    "    return A_res"
   ]
  },
  {
   "cell_type": "code",
   "execution_count": 31,
   "metadata": {},
   "outputs": [
    {
     "name": "stdout",
     "output_type": "stream",
     "text": [
      "[[-5.0  4.5 -2.5]\n",
      " [ 5.0 -5.0  3.0]\n",
      " [-2.0  2.5 -1.5]]\n"
     ]
    }
   ],
   "source": [
    "my_print(invert_matrix(A_list))"
   ]
  },
  {
   "cell_type": "markdown",
   "metadata": {},
   "source": [
    "#### Trên `A_np` "
   ]
  },
  {
   "cell_type": "code",
   "execution_count": 32,
   "metadata": {},
   "outputs": [
    {
     "name": "stdout",
     "output_type": "stream",
     "text": [
      "[[-5.   4.5 -2.5]\n",
      " [ 5.  -5.   3. ]\n",
      " [-2.   2.5 -1.5]]\n"
     ]
    }
   ],
   "source": [
    "print(np.linalg.inv(A_np))"
   ]
  },
  {
   "cell_type": "markdown",
   "metadata": {},
   "source": [
    "Sau phần thực hành này, hy vọng các bạn sẽ thấy được sự hữu ích khi tận dụng các thư viện của Python ;-)"
   ]
  },
  {
   "cell_type": "markdown",
   "metadata": {},
   "source": [
    "---"
   ]
  },
  {
   "cell_type": "markdown",
   "metadata": {},
   "source": [
    "## Đồ án 1 - Color Compression <a class=\"anchor\" id=\"c2\"></a>"
   ]
  },
  {
   "cell_type": "markdown",
   "metadata": {},
   "source": [
    "### Nội dung đồ án <a class=\"anchor\" id=\"c21\"></a>"
   ]
  },
  {
   "cell_type": "markdown",
   "metadata": {},
   "source": [
    "#### Giới thiệu"
   ]
  },
  {
   "cell_type": "markdown",
   "metadata": {},
   "source": [
    "Một bức ảnh có thể lưu trữ dưới ma trận của các điểm ảnh. Có nhiều loại ảnh được sử dụng trong thực tế, ví dụ: ảnh xám, ảnh màu,... \n",
    "\n",
    "Đối với ảnh xám, một điểm ảnh sẽ là được biểu diễn bằng giá trị không âm. \n",
    "\n",
    "Ví dụ ta có thể dùng ma trận này:\n",
    "$$\\begin{bmatrix}\n",
    "255 & 0 & 0  & 0  & 255 \\\\ \n",
    "255 & 0 & 255 & 0 & 255\\\\ \n",
    "255 & 0 & 255 & 0 & 255\\\\ \n",
    "255 & 0 & 255 & 0 & 255\\\\ \n",
    "255 & 0 & 0  & 0  & 255\n",
    "\\end{bmatrix}$$\n",
    "\n",
    "có thể biểu diễn cho ảnh xám có nội dung như sau:"
   ]
  },
  {
   "cell_type": "code",
   "execution_count": 36,
   "metadata": {
    "scrolled": true
   },
   "outputs": [
    {
     "data": {
      "image/png": "[encoded data removed]",
      "text/plain": [
       "<Figure size 432x288 with 1 Axes>"
      ]
     },
     "metadata": {
      "needs_background": "light"
     },
     "output_type": "display_data"
    }
   ],
   "source": [
    "import matplotlib.pyplot as plt\n",
    "plt.imshow(np.array([[255, 0, 0, 0, 255], [255, 0, 255, 0, 255], [255, 0, 255, 0, 255], \n",
    "                     [255, 0, 255, 0, 255], [255, 0, 0, 0, 255]]), cmap='gray', vmin=0, vmax=255);"
   ]
  },
  {
   "cell_type": "markdown",
   "metadata": {},
   "source": [
    "Ảnh màu được sử dụng phổ biến là ảnh RGB, trong đó, mỗi điểm ảnh sẽ lưu trữ 3 thông tin kênh màu (mỗi kênh màu 1 byte) là: R (red - đỏ), G (green - xanh lá), B (blue - xanh dương). Ta có thể sử dụng ma trận:\n",
    "```\n",
    "                    [[[255, 255, 255], [255, 0, 0], [255, 0, 0], [255, 0, 0], [255, 255, 255]],\n",
    "                     [[255, 255, 255], [255, 0, 0], [255, 255, 255], [255, 0, 0], [255, 255, 255]],\n",
    "                     [[255, 255, 255], [255, 0, 0], [255, 255, 255], [255, 0, 0], [255, 255, 255]],\n",
    "                     [[255, 255, 255], [255, 0, 0], [255, 255, 255], [255, 0, 0], [255, 255, 255]],\n",
    "                     [[255, 255, 255], [255, 0, 0], [255, 0, 0], [255, 0, 0], [255, 255, 255]]]\n",
    "```\n",
    "để biểu diễn cho ảnh màu có nội dung sau:"
   ]
  },
  {
   "cell_type": "code",
   "execution_count": 34,
   "metadata": {
    "scrolled": true
   },
   "outputs": [
    {
     "data": {
      "image/png": "[encoded data removed]",
      "text/plain": [
       "<Figure size 432x288 with 1 Axes>"
      ]
     },
     "metadata": {
      "needs_background": "light"
     },
     "output_type": "display_data"
    }
   ],
   "source": [
    "plt.imshow(np.array([[[255, 255, 255], [255, 0, 0], [255, 0, 0], [255, 0, 0], [255, 255, 255]],\n",
    "                     [[255, 255, 255], [255, 0, 0], [255, 255, 255], [255, 0, 0], [255, 255, 255]],\n",
    "                     [[255, 255, 255], [255, 0, 0], [255, 255, 255], [255, 0, 0], [255, 255, 255]],\n",
    "                     [[255, 255, 255], [255, 0, 0], [255, 255, 255], [255, 0, 0], [255, 255, 255]],\n",
    "                     [[255, 255, 255], [255, 0, 0], [255, 0, 0], [255, 0, 0], [255, 255, 255]]]));"
   ]
  },
  {
   "cell_type": "markdown",
   "metadata": {},
   "source": [
    "Như vậy, số màu trong ảnh RGB có thể là $256^3 \\approx 1.7 \\times 10^7$. Với số lượng màu khá lớn, khi lưu trữ ảnh có thể sẽ tốn chi phí lưu trữ. Do đó bài toán đặt ra là giảm số lượng màu để biểu diễn ảnh sao cho nội dung ảnh được bảo toàn nhất có thể.\n",
    "\n",
    "Cho ảnh như sau:\n",
    "\n",
    "![img](https://scontent.fhan4-2.fna.fbcdn.net/v/t1.6435-9/108021534_2792519034314628_43786322214829236_n.jpg?_nc_cat=111&ccb=1-7&_nc_sid=730e14&_nc_ohc=u7A7KXOiHU8AX8tU79-&tn=vv22AQwGHZ3TiJCI&_nc_ht=scontent.fhan4-2.fna&oh=00_AT9DjF6wuEeMVU2JmKk4vhjulF65hj2ltIftCLLWA_zhQg&oe=62B9F090)\n",
    "\n",
    "Trong ví dụ trên, số lượng màu cho ảnh ban đầu là 439 màu. Sau khi giảm số lượng màu xuống còn 5, ảnh không còn được chi tiết nhưng cơ bản vẫn bảo toàn nội dung của ảnh ban đầu.\n",
    "\n",
    "Để thực hiện giảm số lượng màu, ta cần tìm ra các đại diện có thể thay thế cho một nhóm màu. Cụ thể trong trường hợp ảnh RGB, ta cần thực hiện gom nhóm các pixel ($\\mathbb{R}^3$) và chọn ra đại diện cho từng nhóm. Như vậy, bài toán trên trở thành gom nhóm các vec-tơ."
   ]
  },
  {
   "cell_type": "markdown",
   "metadata": {},
   "source": [
    "#### Yêu cầu"
   ]
  },
  {
   "cell_type": "markdown",
   "metadata": {},
   "source": [
    "Trong đồ án này, bạn được yêu cầu cài đặt chương trình giảm số lượng màu cho ảnh sử dụng thuật toán [K-Means](https://en.wikipedia.org/wiki/K-means_clustering).\n",
    "\n",
    "Các thư viện được phép sử dụng là: `NumPy` (tính toán ma trận), `PIL` (đọc, ghi ảnh), `matplotlib` (hiển thị ảnh).\n",
    "\n",
    "Một số gợi ý:\n",
    "- Đọc ảnh: `PIL.Image.open(...)`\n",
    "- Hiển thị ảnh: `matplotlib.pyplot.imshow(...)`\n",
    "- Thay đổi shape cho `np.ndarray`: `np.reshape(...)`\n",
    "- Khai báo hàm gợi ý cho thuật toán K-Means:\n",
    "```python\n",
    "def kmeans(img_1d, k_clusters, max_iter, init_centroids='random'):\n",
    "    '''\n",
    "    K-Means algorithm\n",
    "    \n",
    "    Inputs:\n",
    "        img_1d : np.ndarray with shape=(height * width, num_channels)\n",
    "            Original image in 1d array\n",
    "        \n",
    "        k_clusters : int\n",
    "            Number of clusters\n",
    "            \n",
    "        max_iter : int\n",
    "            Max iterator\n",
    "            \n",
    "        init_cluster : str\n",
    "            The way which use to init centroids\n",
    "            'random' --> centroid has `c` channels, with `c` is initial random in [0,255]\n",
    "            'in_pixels' --> centroid is a random pixels of original image\n",
    "            \n",
    "    Outputs:\n",
    "        centroids : np.ndarray with shape=(k_clusters, num_channels)\n",
    "            Store color centroids\n",
    "            \n",
    "        labels : np.ndarray with shape=(height * width, )\n",
    "            Store label for pixels (cluster's index on which the pixel belongs)\n",
    "    \n",
    "    '''\n",
    "    \n",
    "    ### YOUR CODE HERE\n",
    "```\n",
    "\n",
    "<font style=\"color:red\">*Lưu ý: Không sử dụng K-Means đã được cài đặt sẵn trong các thư viện trong bài nộp. Bạn có thể sử dụng K-Means trong `scikit-learn` để kiểm tra.* </font>\n",
    "\n",
    "**Sinh viên cần viết chương trình `main` cho phép**:\n",
    "- Người dùng nhập vào tên tập tin ảnh mỗi lần chương trình thực thi (gợi ý sử dụng `input()` trong Python)\n",
    "- Lựa chọn định dạng lưu ảnh đầu ra gồm: `png`, `jpg`, `pdf`"
   ]
  },
  {
   "cell_type": "markdown",
   "metadata": {},
   "source": [
    "### Quy định bài nộp <a class=\"anchor\" id=\"c22\"></a>"
   ]
  },
  {
   "cell_type": "markdown",
   "metadata": {},
   "source": [
    "* Thực hiện toàn bộ bài làm trên 1 tập tin Jupyter Notebook (.ipynb) hoặc Python (.py)\n",
    "\n",
    "\n",
    "* Bạn nộp tập tin `MSSV.zip` được nén từ thư mục MSSV chứa các tập tin sau:\n",
    "    1. Báo cáo toàn bộ bài làm: `MSSV.pdf`\n",
    "    2. Mã nguồn: `MSSV.ipynb` hoặc `MSSV.py`\n",
    "\n",
    "\n",
    "* Trong đó, nội dung tập tin báo cáo gồm có:\n",
    "    - Thông tin cá nhân: Họ và tên, MSSV\n",
    "    - Ý tưởng thực hiện, mô tả các hàm\n",
    "    - Hình ảnh kết quả với từng số lượng màu, `k = {3, 5, 7}`. Sinh viên có thể thử nghiệm thêm `k` khác\n",
    "    - **Nhận xét kết quả trên**\n",
    "    - Báo cáo cần có số trang và tài liệu tham khảo\n",
    "    \n",
    "* Ví dụ minh họa cây thư mục bài nộp sau khi giải nén tập tin `MSSV.zip` như sau:\n",
    "```\n",
    "MSSV\n",
    "├── MSSV.pdf\n",
    "└── MSSV.ipynb\n",
    "```"
   ]
  },
  {
   "cell_type": "markdown",
   "metadata": {},
   "source": [
    "### Quy định chấm bài <a class=\"anchor\" id=\"c23\"></a>"
   ]
  },
  {
   "cell_type": "markdown",
   "metadata": {},
   "source": [
    "Đồ án chiếm **10%** điểm tổng kết.\n",
    "\n",
    "Những trường hợp sau đây sẽ bị 0 điểm toàn bộ đồ án:\n",
    "* Nộp sai quy định\n",
    "* Không có báo cáo\n",
    "* Thực thi mã nguồn báo lỗi\n",
    "\n",
    "<font style=\"color:red\">**LƯU Ý: SAO CHÉP BÀI LÀM CỦA NHAU SẼ BỊ 0 ĐIỂM TOÀN BỘ PHẦN THỰC HÀNH**</font>"
   ]
  }
 ],
 "metadata": {
  "interpreter": {
   "hash": "a42ccb73e7d9bfdf27e036f1d2b8b681e55fc0743cc5586bc2474d4a60f4b886"
  },
  "kernelspec": {
   "display_name": "Python 3.10.4 64-bit",
   "language": "python",
   "name": "python3"
  },
  "language_info": {
   "codemirror_mode": {
    "name": "ipython",
    "version": 3
   },
   "file_extension": ".py",
   "mimetype": "text/x-python",
   "name": "python",
   "nbconvert_exporter": "python",
   "pygments_lexer": "ipython3",
   "version": "3.10.4"
  }
 },
 "nbformat": 4,
 "nbformat_minor": 4
}
